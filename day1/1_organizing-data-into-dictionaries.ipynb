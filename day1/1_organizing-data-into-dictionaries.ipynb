{
 "cells": [
  {
   "cell_type": "markdown",
   "metadata": {},
   "source": [
    "## Key-Value Mappings: Dictionaries\n",
    "\n",
    "As neuroscience researchers, we often encounter scenarios where you need to associate specific values with unique identifiers – be it experimental conditions, subject details, or measurement parameters. This section introduces dictionaries in Python, a versatile data structure ideal for storing and retrieving data through key-value pairs:\n",
    "\n",
    "```python\n",
    "{\"name\": \"Emma\",   \"Date\": \"2022-07-23\"}\n",
    "#--Key----Value-   -Key-------Value----\n",
    "```\n",
    "\n"
   ]
  },
  {
   "cell_type": "markdown",
   "metadata": {},
   "source": [
    "\n",
    "| Code | Description |\n",
    "| :-- | :-- |\n",
    "| data = {} | Makes an empty Dict | \n",
    "| data = {'a': 3, 'b': 5} | Makes a Dict with two items: \"a\" and \"b\" |\n",
    "| data['a'] | Accesses the value associated with key 'a' |\n",
    "| data['c'] = 7 | Adds a new key-value pair 'c': 7 to the Dict |\n",
    "| list(data.keys()) | Retrieves a list of all keys in the Dict |"
   ]
  },
  {
   "cell_type": "markdown",
   "metadata": {},
   "source": [
    "**Exercises**"
   ]
  },
  {
   "cell_type": "markdown",
   "metadata": {},
   "source": [
    "The `image` dict describes how researcher Tom's recording is formatted:"
   ]
  },
  {
   "cell_type": "code",
   "execution_count": 1,
   "metadata": {},
   "outputs": [
    {
     "data": {
      "text/plain": [
       "{'height': 1920, 'width': 1080, 'format': 'RGB', 'order': 'F'}"
      ]
     },
     "execution_count": 1,
     "metadata": {},
     "output_type": "execute_result"
    }
   ],
   "source": [
    "image = {'height': 1920, 'width': 1080, 'format': 'RGB', 'order': 'F'}\n",
    "image"
   ]
  },
  {
   "cell_type": "markdown",
   "metadata": {},
   "source": [
    "**Example**: Write the code to print out the width of the image, by accessing the `\"width\"` key:"
   ]
  },
  {
   "cell_type": "code",
   "execution_count": 2,
   "metadata": {},
   "outputs": [
    {
     "data": {
      "text/plain": [
       "1080"
      ]
     },
     "execution_count": 2,
     "metadata": {},
     "output_type": "execute_result"
    }
   ],
   "source": [
    "image['width']"
   ]
  },
  {
   "cell_type": "markdown",
   "metadata": {},
   "source": [
    "What is the height of the image?"
   ]
  },
  {
   "cell_type": "code",
   "execution_count": 3,
   "metadata": {},
   "outputs": [
    {
     "data": {
      "text/plain": [
       "1920"
      ]
     },
     "execution_count": 3,
     "metadata": {},
     "output_type": "execute_result"
    }
   ],
   "source": [
    "image['height']"
   ]
  },
  {
   "cell_type": "markdown",
   "metadata": {},
   "source": [
    "How are the pixel data in the image formatted?"
   ]
  },
  {
   "cell_type": "code",
   "execution_count": 5,
   "metadata": {},
   "outputs": [
    {
     "data": {
      "text/plain": [
       "'RGB'"
      ]
     },
     "execution_count": 5,
     "metadata": {},
     "output_type": "execute_result"
    }
   ],
   "source": [
    "image['format']"
   ]
  },
  {
   "cell_type": "markdown",
   "metadata": {},
   "source": [
    "What does the error message say, if you use the same syntax to find out which key has the value `1080` ?  What does this tell you about how key-value maps like Dictionaries are designed for?"
   ]
  },
  {
   "cell_type": "code",
   "execution_count": 47,
   "metadata": {},
   "outputs": [
    {
     "data": {
      "text/plain": [
       "<function dict.values>"
      ]
     },
     "execution_count": 47,
     "metadata": {},
     "output_type": "execute_result"
    }
   ],
   "source": [
    "#we can do it by inverting it\n",
    "{value:key for key,value in image.items()} #so I invert the dictionary and then I find the key of the value I want\n",
    "image.values"
   ]
  },
  {
   "cell_type": "markdown",
   "metadata": {},
   "source": [
    "Make a dictionary: Reorganize the code below: tell Python that the three variables below all belong together by putting them into a dictionary called `session`."
   ]
  },
  {
   "cell_type": "code",
   "execution_count": 7,
   "metadata": {},
   "outputs": [],
   "source": [
    "subject = \"Josie\"\n",
    "date = \"2023-07-23\"\n",
    "group = \"control\""
   ]
  },
  {
   "cell_type": "code",
   "execution_count": 9,
   "metadata": {},
   "outputs": [],
   "source": [
    "session={subject: \"Josie\",date: \"2023-07-23\",group: \"control\"}"
   ]
  },
  {
   "cell_type": "markdown",
   "metadata": {},
   "source": [
    "Check that the dictionary is constructed properly by getting the subject from it. It should show \"Josie\""
   ]
  },
  {
   "cell_type": "code",
   "execution_count": 10,
   "metadata": {},
   "outputs": [
    {
     "data": {
      "text/plain": [
       "'Josie'"
      ]
     },
     "execution_count": 10,
     "metadata": {},
     "output_type": "execute_result"
    }
   ],
   "source": [
    "session[subject]"
   ]
  },
  {
   "cell_type": "markdown",
   "metadata": {},
   "source": [
    "## Analysing Data stored in Dicts\n",
    "\n",
    "Some challenges around doing statistics on `dict` data is that dicts are not \"sequences\", and neither are `dict_keys()` or `dict_values()`, so before putting them into a statistics function we should first turn `dict_values()` into a `list` using the `list()` function. For example:\n",
    "\n",
    "```python\n",
    ">>> data = {'x': 1, 'y': 2}\n",
    "\n",
    ">>> data.values()\n",
    "dict_values([1, 2])\n",
    "\n",
    ">>> list(data.values())\n",
    "[1, 2]\n",
    "\n",
    ">>> np.mean(list(data.values()))\n",
    "1.5\n",
    "```\n",
    "\n",
    "Useful Functions for the below Exercises:\n",
    "\n",
    "| Function | Example | Description |\n",
    "| :----  | :----   | :---- |\n",
    "| `len()` | `len(the_dict)` | The total number of items |\n",
    "| `np.mean()` | `np.mean(list(the_dict.values())` | The mean of the dict's values |\n",
    "| `np.min()` | `np.min(list(the_dict.values()))` | The minimum of the dict's values |"
   ]
  },
  {
   "cell_type": "markdown",
   "metadata": {},
   "source": [
    "**Exercises**: Let's get some practice querying dicts and calculating some statistics on dicts using Numpy."
   ]
  },
  {
   "cell_type": "code",
   "execution_count": 12,
   "metadata": {},
   "outputs": [
    {
     "name": "stdout",
     "output_type": "stream",
     "text": [
      "Collecting numpy\n",
      "  Downloading numpy-1.26.4-cp311-cp311-win_amd64.whl.metadata (61 kB)\n",
      "     ---------------------------------------- 0.0/61.0 kB ? eta -:--:--\n",
      "     ------ --------------------------------- 10.2/61.0 kB ? eta -:--:--\n",
      "     ------------------- ------------------ 30.7/61.0 kB 325.1 kB/s eta 0:00:01\n",
      "     -------------------------------------- 61.0/61.0 kB 540.4 kB/s eta 0:00:00\n",
      "Downloading numpy-1.26.4-cp311-cp311-win_amd64.whl (15.8 MB)\n",
      "   ---------------------------------------- 0.0/15.8 MB ? eta -:--:--\n",
      "   ---------------------------------------- 0.1/15.8 MB 7.0 MB/s eta 0:00:03\n",
      "    --------------------------------------- 0.3/15.8 MB 4.2 MB/s eta 0:00:04\n",
      "   - -------------------------------------- 0.5/15.8 MB 3.7 MB/s eta 0:00:05\n",
      "   - -------------------------------------- 0.7/15.8 MB 3.9 MB/s eta 0:00:04\n",
      "   -- ------------------------------------- 0.9/15.8 MB 4.0 MB/s eta 0:00:04\n",
      "   -- ------------------------------------- 1.1/15.8 MB 3.9 MB/s eta 0:00:04\n",
      "   --- ------------------------------------ 1.3/15.8 MB 4.1 MB/s eta 0:00:04\n",
      "   --- ------------------------------------ 1.4/15.8 MB 4.0 MB/s eta 0:00:04\n",
      "   ---- ----------------------------------- 1.6/15.8 MB 4.0 MB/s eta 0:00:04\n",
      "   ---- ----------------------------------- 1.8/15.8 MB 4.0 MB/s eta 0:00:04\n",
      "   ---- ----------------------------------- 2.0/15.8 MB 3.9 MB/s eta 0:00:04\n",
      "   ----- ---------------------------------- 2.1/15.8 MB 3.8 MB/s eta 0:00:04\n",
      "   ----- ---------------------------------- 2.2/15.8 MB 3.8 MB/s eta 0:00:04\n",
      "   ------ --------------------------------- 2.4/15.8 MB 3.7 MB/s eta 0:00:04\n",
      "   ------ --------------------------------- 2.6/15.8 MB 3.8 MB/s eta 0:00:04\n",
      "   ------ --------------------------------- 2.8/15.8 MB 3.8 MB/s eta 0:00:04\n",
      "   ------- -------------------------------- 2.9/15.8 MB 3.8 MB/s eta 0:00:04\n",
      "   -------- ------------------------------- 3.2/15.8 MB 3.8 MB/s eta 0:00:04\n",
      "   -------- ------------------------------- 3.4/15.8 MB 3.8 MB/s eta 0:00:04\n",
      "   -------- ------------------------------- 3.5/15.8 MB 3.8 MB/s eta 0:00:04\n",
      "   --------- ------------------------------ 3.7/15.8 MB 3.8 MB/s eta 0:00:04\n",
      "   --------- ------------------------------ 3.9/15.8 MB 3.8 MB/s eta 0:00:04\n",
      "   ---------- ----------------------------- 4.0/15.8 MB 3.8 MB/s eta 0:00:04\n",
      "   ---------- ----------------------------- 4.2/15.8 MB 3.8 MB/s eta 0:00:04\n",
      "   ----------- ---------------------------- 4.4/15.8 MB 3.8 MB/s eta 0:00:03\n",
      "   ----------- ---------------------------- 4.6/15.8 MB 3.8 MB/s eta 0:00:03\n",
      "   ------------ --------------------------- 4.9/15.8 MB 3.8 MB/s eta 0:00:03\n",
      "   ------------ --------------------------- 5.0/15.8 MB 3.9 MB/s eta 0:00:03\n",
      "   ------------- -------------------------- 5.3/15.8 MB 3.9 MB/s eta 0:00:03\n",
      "   ------------- -------------------------- 5.4/15.8 MB 3.9 MB/s eta 0:00:03\n",
      "   -------------- ------------------------- 5.6/15.8 MB 3.9 MB/s eta 0:00:03\n",
      "   -------------- ------------------------- 5.8/15.8 MB 3.9 MB/s eta 0:00:03\n",
      "   -------------- ------------------------- 5.9/15.8 MB 3.9 MB/s eta 0:00:03\n",
      "   --------------- ------------------------ 6.1/15.8 MB 3.8 MB/s eta 0:00:03\n",
      "   --------------- ------------------------ 6.3/15.8 MB 3.8 MB/s eta 0:00:03\n",
      "   ---------------- ----------------------- 6.4/15.8 MB 3.8 MB/s eta 0:00:03\n",
      "   ---------------- ----------------------- 6.6/15.8 MB 3.8 MB/s eta 0:00:03\n",
      "   ----------------- ---------------------- 6.8/15.8 MB 3.9 MB/s eta 0:00:03\n",
      "   ----------------- ---------------------- 7.0/15.8 MB 3.9 MB/s eta 0:00:03\n",
      "   ------------------ --------------------- 7.3/15.8 MB 3.9 MB/s eta 0:00:03\n",
      "   ------------------ --------------------- 7.5/15.8 MB 3.9 MB/s eta 0:00:03\n",
      "   ------------------- -------------------- 7.7/15.8 MB 3.9 MB/s eta 0:00:03\n",
      "   ------------------- -------------------- 7.9/15.8 MB 3.9 MB/s eta 0:00:03\n",
      "   -------------------- ------------------- 8.0/15.8 MB 3.9 MB/s eta 0:00:02\n",
      "   -------------------- ------------------- 8.2/15.8 MB 4.0 MB/s eta 0:00:02\n",
      "   --------------------- ------------------ 8.5/15.8 MB 4.0 MB/s eta 0:00:02\n",
      "   --------------------- ------------------ 8.7/15.8 MB 4.0 MB/s eta 0:00:02\n",
      "   ---------------------- ----------------- 8.9/15.8 MB 4.0 MB/s eta 0:00:02\n",
      "   ----------------------- ---------------- 9.1/15.8 MB 4.0 MB/s eta 0:00:02\n",
      "   ----------------------- ---------------- 9.4/15.8 MB 4.1 MB/s eta 0:00:02\n",
      "   ------------------------ --------------- 9.6/15.8 MB 4.1 MB/s eta 0:00:02\n",
      "   ------------------------- -------------- 9.9/15.8 MB 4.1 MB/s eta 0:00:02\n",
      "   ------------------------- -------------- 10.2/15.8 MB 4.1 MB/s eta 0:00:02\n",
      "   -------------------------- ------------- 10.4/15.8 MB 4.2 MB/s eta 0:00:02\n",
      "   --------------------------- ------------ 10.7/15.8 MB 4.2 MB/s eta 0:00:02\n",
      "   --------------------------- ------------ 11.0/15.8 MB 4.3 MB/s eta 0:00:02\n",
      "   ---------------------------- ----------- 11.2/15.8 MB 4.3 MB/s eta 0:00:02\n",
      "   ---------------------------- ----------- 11.4/15.8 MB 4.3 MB/s eta 0:00:02\n",
      "   ----------------------------- ---------- 11.7/15.8 MB 4.3 MB/s eta 0:00:01\n",
      "   ----------------------------- ---------- 11.8/15.8 MB 4.3 MB/s eta 0:00:01\n",
      "   ------------------------------ --------- 12.0/15.8 MB 4.3 MB/s eta 0:00:01\n",
      "   ------------------------------ --------- 12.2/15.8 MB 4.3 MB/s eta 0:00:01\n",
      "   ------------------------------- -------- 12.3/15.8 MB 4.4 MB/s eta 0:00:01\n",
      "   ------------------------------- -------- 12.5/15.8 MB 4.3 MB/s eta 0:00:01\n",
      "   ------------------------------- -------- 12.6/15.8 MB 4.3 MB/s eta 0:00:01\n",
      "   -------------------------------- ------- 12.8/15.8 MB 4.3 MB/s eta 0:00:01\n",
      "   -------------------------------- ------- 12.9/15.8 MB 4.3 MB/s eta 0:00:01\n",
      "   --------------------------------- ------ 13.1/15.8 MB 4.3 MB/s eta 0:00:01\n",
      "   --------------------------------- ------ 13.3/15.8 MB 4.3 MB/s eta 0:00:01\n",
      "   --------------------------------- ------ 13.4/15.8 MB 4.3 MB/s eta 0:00:01\n",
      "   ---------------------------------- ----- 13.6/15.8 MB 4.3 MB/s eta 0:00:01\n",
      "   ---------------------------------- ----- 13.8/15.8 MB 4.2 MB/s eta 0:00:01\n",
      "   ----------------------------------- ---- 14.0/15.8 MB 4.3 MB/s eta 0:00:01\n",
      "   ----------------------------------- ---- 14.2/15.8 MB 4.3 MB/s eta 0:00:01\n",
      "   ------------------------------------ --- 14.4/15.8 MB 4.3 MB/s eta 0:00:01\n",
      "   ------------------------------------ --- 14.5/15.8 MB 4.3 MB/s eta 0:00:01\n",
      "   ------------------------------------- -- 14.7/15.8 MB 4.3 MB/s eta 0:00:01\n",
      "   ------------------------------------- -- 14.8/15.8 MB 4.2 MB/s eta 0:00:01\n",
      "   ------------------------------------- -- 15.0/15.8 MB 4.2 MB/s eta 0:00:01\n",
      "   -------------------------------------- - 15.1/15.8 MB 4.2 MB/s eta 0:00:01\n",
      "   -------------------------------------- - 15.2/15.8 MB 4.1 MB/s eta 0:00:01\n",
      "   -------------------------------------- - 15.4/15.8 MB 4.1 MB/s eta 0:00:01\n",
      "   ---------------------------------------  15.5/15.8 MB 4.1 MB/s eta 0:00:01\n",
      "   ---------------------------------------  15.7/15.8 MB 4.1 MB/s eta 0:00:01\n",
      "   ---------------------------------------  15.8/15.8 MB 4.1 MB/s eta 0:00:01\n",
      "   ---------------------------------------  15.8/15.8 MB 4.1 MB/s eta 0:00:01\n",
      "   ---------------------------------------- 15.8/15.8 MB 4.0 MB/s eta 0:00:00\n",
      "Installing collected packages: numpy\n",
      "Successfully installed numpy-1.26.4\n",
      "Note: you may need to restart the kernel to use updated packages.\n"
     ]
    }
   ],
   "source": [
    "%pip install numpy"
   ]
  },
  {
   "cell_type": "code",
   "execution_count": 13,
   "metadata": {},
   "outputs": [],
   "source": [
    "import numpy as np"
   ]
  },
  {
   "cell_type": "markdown",
   "metadata": {},
   "source": [
    "Using the following dict, calculate what was the average hours of sleep that our friends got last night:"
   ]
  },
  {
   "cell_type": "code",
   "execution_count": 14,
   "metadata": {},
   "outputs": [],
   "source": [
    "hours_of_sleep = {'Jason': 5, 'Kimberly': 9, 'Billy': 7, 'Trini': 6, 'Zack': 8}"
   ]
  },
  {
   "cell_type": "code",
   "execution_count": 30,
   "metadata": {},
   "outputs": [
    {
     "data": {
      "text/plain": [
       "7.0"
      ]
     },
     "execution_count": 30,
     "metadata": {},
     "output_type": "execute_result"
    }
   ],
   "source": [
    "a=np.array(list(hours_of_sleep.values()))\n",
    "np.mean(a)"
   ]
  },
  {
   "cell_type": "markdown",
   "metadata": {},
   "source": [
    "How many total people in the following dataset were in our sleep study?"
   ]
  },
  {
   "cell_type": "code",
   "execution_count": 31,
   "metadata": {},
   "outputs": [],
   "source": [
    "hours_of_sleep = {'Jason': 5, 'Kimberly': 9, 'Billy': 7, 'Trini': 6, 'Zack': 8}"
   ]
  },
  {
   "cell_type": "code",
   "execution_count": 32,
   "metadata": {},
   "outputs": [
    {
     "data": {
      "text/plain": [
       "5"
      ]
     },
     "execution_count": 32,
     "metadata": {},
     "output_type": "execute_result"
    }
   ],
   "source": [
    "len(list(hours_of_sleep))"
   ]
  },
  {
   "cell_type": "markdown",
   "metadata": {},
   "source": [
    "What was the average amount of sleep on day 2 in the following dataset?"
   ]
  },
  {
   "cell_type": "code",
   "execution_count": 33,
   "metadata": {},
   "outputs": [],
   "source": [
    "hours_of_sleep = {\n",
    "    'Day1': [5, 7, 3, 3, 4, 6, 8, 9],\n",
    "    'Day2': [5, 7, 8, 5, 6, 7, 8, 4],\n",
    "}"
   ]
  },
  {
   "cell_type": "code",
   "execution_count": 36,
   "metadata": {},
   "outputs": [
    {
     "data": {
      "text/plain": [
       "6.25"
      ]
     },
     "execution_count": 36,
     "metadata": {},
     "output_type": "execute_result"
    }
   ],
   "source": [
    "np.mean(hours_of_sleep['Day2'])"
   ]
  },
  {
   "cell_type": "markdown",
   "metadata": {},
   "source": [
    "Use the following dataset to answer the questions below\n",
    "\n",
    "*Tip*: you can index multiple times (e.g. `data['Monday']['Morning']` or `data['Monday'].keys()`)"
   ]
  },
  {
   "cell_type": "code",
   "execution_count": 37,
   "metadata": {},
   "outputs": [],
   "source": [
    "hours_of_sleep = {\n",
    "    'Day1': {'Jason': 5, 'Kimberly': 9, 'Billy': 7, 'Trini': 6, 'Zack': 8},\n",
    "    'Day2': {'Billy': 10, 'Kimberly': 7, 'Trini': 7, 'Jason': 4},\n",
    "    'Day3': {'Trini': 8, 'Zack': 6, 'Jason': 9, 'Billy': 9},\n",
    "}"
   ]
  },
  {
   "cell_type": "markdown",
   "metadata": {},
   "source": [
    "*Example*: How many hours of sleep did Trini get on Day 2?"
   ]
  },
  {
   "cell_type": "code",
   "execution_count": 38,
   "metadata": {},
   "outputs": [
    {
     "data": {
      "text/plain": [
       "7"
      ]
     },
     "execution_count": 38,
     "metadata": {},
     "output_type": "execute_result"
    }
   ],
   "source": [
    "hours_of_sleep['Day2']['Trini']"
   ]
  },
  {
   "cell_type": "markdown",
   "metadata": {},
   "source": [
    "How many hours of sleep did Billy get on Day 1?"
   ]
  },
  {
   "cell_type": "code",
   "execution_count": 39,
   "metadata": {},
   "outputs": [
    {
     "data": {
      "text/plain": [
       "7"
      ]
     },
     "execution_count": 39,
     "metadata": {},
     "output_type": "execute_result"
    }
   ],
   "source": [
    "hours_of_sleep['Day1']['Billy']"
   ]
  },
  {
   "cell_type": "markdown",
   "metadata": {},
   "source": [
    "How much sleep did Zack get on Day 3?"
   ]
  },
  {
   "cell_type": "code",
   "execution_count": 40,
   "metadata": {},
   "outputs": [
    {
     "data": {
      "text/plain": [
       "6"
      ]
     },
     "execution_count": 40,
     "metadata": {},
     "output_type": "execute_result"
    }
   ],
   "source": [
    "hours_of_sleep['Day3']['Zack']"
   ]
  },
  {
   "cell_type": "markdown",
   "metadata": {},
   "source": [
    "How many people were in the study on Day 1?"
   ]
  },
  {
   "cell_type": "code",
   "execution_count": 42,
   "metadata": {},
   "outputs": [
    {
     "data": {
      "text/plain": [
       "5"
      ]
     },
     "execution_count": 42,
     "metadata": {},
     "output_type": "execute_result"
    }
   ],
   "source": [
    "len(hours_of_sleep['Day1'])"
   ]
  },
  {
   "cell_type": "markdown",
   "metadata": {},
   "source": [
    "How many people were still in the study on Day 3?"
   ]
  },
  {
   "cell_type": "code",
   "execution_count": 43,
   "metadata": {},
   "outputs": [
    {
     "data": {
      "text/plain": [
       "4"
      ]
     },
     "execution_count": 43,
     "metadata": {},
     "output_type": "execute_result"
    }
   ],
   "source": [
    "len(hours_of_sleep['Day3'])"
   ]
  },
  {
   "cell_type": "markdown",
   "metadata": {},
   "source": [
    "Was the average amount of sleep higher on day one or day three?"
   ]
  },
  {
   "cell_type": "code",
   "execution_count": 46,
   "metadata": {},
   "outputs": [
    {
     "data": {
      "text/plain": [
       "8.0"
      ]
     },
     "execution_count": 46,
     "metadata": {},
     "output_type": "execute_result"
    }
   ],
   "source": [
    "np.mean(list(hours_of_sleep['Day1'].values()))\n",
    "np.mean(list(hours_of_sleep['Day3'].values()))"
   ]
  }
 ],
 "metadata": {
  "kernelspec": {
   "display_name": "duckdb",
   "language": "python",
   "name": "python3"
  },
  "language_info": {
   "codemirror_mode": {
    "name": "ipython",
    "version": 3
   },
   "file_extension": ".py",
   "mimetype": "text/x-python",
   "name": "python",
   "nbconvert_exporter": "python",
   "pygments_lexer": "ipython3",
   "version": "3.11.7"
  }
 },
 "nbformat": 4,
 "nbformat_minor": 2
}
