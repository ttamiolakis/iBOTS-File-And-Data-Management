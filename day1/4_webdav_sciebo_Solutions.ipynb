{
 "cells": [
  {
   "cell_type": "markdown",
   "metadata": {},
   "source": [
    "# Sciebo/NextCloud/Owncloud Folders as a Remote Filesystem\n",
    "\n",
    "Cloud storage services like Sciebo, NextCloud, and Owncloud offer convenient solutions for storing and accessing large datasets, and they are offered free of charge to all researchers in the NRW region! This section focuses on integrating these services into your data analysis pipeline, demonstrating how to interact with these cloud storage platforms programmatically to manage your neuroscience research data efficiently.\n",
    "\n",
    "These systems include a \"WebDAV\" interface for interacting with them as a remote filesystem. In this section, we'll use a `WebdavFileSystem` fsspec class to connect!\n",
    "\n",
    "If you haven't made a Sciebo account yet, here are some links:\n",
    "\n",
    "  - https://uni-koeln.sciebo.de/login\n",
    "\n",
    "  - https://uni-bonn.sciebo.de/login"
   ]
  },
  {
   "cell_type": "markdown",
   "metadata": {},
   "source": [
    "## Read-Only, Public Datasets\n",
    "\n",
    "Accessing public datasets is a common requirement in neuroscience research. In Sciebo, you can make one instantly by creating a \"Public Link\" to a folder. \n",
    "\n",
    "  - **URL**: `https://uni-bonn.sciebo.de/public.php/webdav`, \n",
    "  - **Username**: The code at the end of the public link.\n",
    "  - **Passsword**: Whatever password you made for the link, or an empty string if no password.\n",
    "\n",
    "This section provides insights into connecting with read-only, public datasets using WebDAV-based file systems. \n",
    "\n"
   ]
  },
  {
   "cell_type": "markdown",
   "metadata": {},
   "source": [
    "**Exercises**"
   ]
  },
  {
   "cell_type": "code",
   "execution_count": null,
   "metadata": {},
   "outputs": [],
   "source": [
    "# %pip install webdav4"
   ]
  },
  {
   "cell_type": "code",
   "execution_count": null,
   "metadata": {},
   "outputs": [],
   "source": [
    "from webdav4.fsspec import WebdavFileSystem"
   ]
  },
  {
   "cell_type": "markdown",
   "metadata": {},
   "source": [
    "List all the files in the root directory of this public Sciebo Link: https://uni-bonn.sciebo.de/s/f81JqGZmEHXxMnB"
   ]
  },
  {
   "cell_type": "code",
   "execution_count": null,
   "metadata": {},
   "outputs": [
    {
     "data": {
      "text/plain": [
       "['README.md', 'data']"
      ]
     },
     "metadata": {},
     "output_type": "display_data"
    }
   ],
   "source": [
    "fs = WebdavFileSystem(\"https://uni-bonn.sciebo.de/public.php/webdav\", auth=(\"f81JqGZmEHXxMnB\", \"\"))\n",
    "fs.ls(\"/\", detail=False)"
   ]
  },
  {
   "cell_type": "markdown",
   "metadata": {},
   "source": [
    "What files are in the \"data/final\" folder?"
   ]
  },
  {
   "cell_type": "code",
   "execution_count": null,
   "metadata": {},
   "outputs": [
    {
     "data": {
      "text/plain": [
       "['data/final/steinmetz_all.csv',\n",
       " 'data/final/steinmetz_all.parquet',\n",
       " 'data/final/steinmetz_summer2017.csv',\n",
       " 'data/final/steinmetz_winter2016.csv',\n",
       " 'data/final/steinmetz_winter2017.csv']"
      ]
     },
     "metadata": {},
     "output_type": "display_data"
    }
   ],
   "source": [
    "fs.ls(\"data/final\", detail=False)"
   ]
  },
  {
   "cell_type": "markdown",
   "metadata": {},
   "source": [
    "How many files are in the \"data/processed\" folder?"
   ]
  },
  {
   "cell_type": "code",
   "execution_count": null,
   "metadata": {},
   "outputs": [
    {
     "data": {
      "text/plain": [
       "['data/processed/steinmetz_2016-12-14_Cori.nc',\n",
       " 'data/processed/steinmetz_2016-12-17_Cori.nc',\n",
       " 'data/processed/steinmetz_2016-12-18_Cori.nc',\n",
       " 'data/processed/steinmetz_2017-01-07_Muller.nc',\n",
       " 'data/processed/steinmetz_2017-01-08_Muller.nc',\n",
       " 'data/processed/steinmetz_2017-01-08_Radnitz.nc',\n",
       " 'data/processed/steinmetz_2017-01-09_Muller.nc',\n",
       " 'data/processed/steinmetz_2017-01-09_Radnitz.nc',\n",
       " 'data/processed/steinmetz_2017-01-10_Radnitz.nc',\n",
       " 'data/processed/steinmetz_2017-01-11_Radnitz.nc',\n",
       " 'data/processed/steinmetz_2017-01-12_Radnitz.nc',\n",
       " 'data/processed/steinmetz_2017-05-15_Moniz.nc',\n",
       " 'data/processed/steinmetz_2017-05-16_Moniz.nc',\n",
       " 'data/processed/steinmetz_2017-05-18_Moniz.nc',\n",
       " 'data/processed/steinmetz_2017-06-15_Hench.nc',\n",
       " 'data/processed/steinmetz_2017-06-16_Hench.nc',\n",
       " 'data/processed/steinmetz_2017-06-17_Hench.nc',\n",
       " 'data/processed/steinmetz_2017-06-18_Hench.nc',\n",
       " 'data/processed/steinmetz_2017-10-11_Theiler.nc',\n",
       " 'data/processed/steinmetz_2017-10-29_Richards.nc',\n",
       " 'data/processed/steinmetz_2017-10-30_Richards.nc',\n",
       " 'data/processed/steinmetz_2017-10-31_Richards.nc',\n",
       " 'data/processed/steinmetz_2017-11-01_Forssmann.nc',\n",
       " 'data/processed/steinmetz_2017-11-01_Richards.nc',\n",
       " 'data/processed/steinmetz_2017-11-02_Forssmann.nc',\n",
       " 'data/processed/steinmetz_2017-11-02_Richards.nc',\n",
       " 'data/processed/steinmetz_2017-11-04_Forssmann.nc',\n",
       " 'data/processed/steinmetz_2017-11-05_Forssmann.nc',\n",
       " 'data/processed/steinmetz_2017-12-05_Lederberg.nc',\n",
       " 'data/processed/steinmetz_2017-12-05_Lederberg_active.nc',\n",
       " 'data/processed/steinmetz_2017-12-06_Lederberg.nc',\n",
       " 'data/processed/steinmetz_2017-12-06_Tatum.nc',\n",
       " 'data/processed/steinmetz_2017-12-07_Lederberg.nc',\n",
       " 'data/processed/steinmetz_2017-12-07_Tatum.nc',\n",
       " 'data/processed/steinmetz_2017-12-08_Lederberg.nc',\n",
       " 'data/processed/steinmetz_2017-12-08_Tatum.nc',\n",
       " 'data/processed/steinmetz_2017-12-09_Lederberg.nc',\n",
       " 'data/processed/steinmetz_2017-12-09_Tatum.nc',\n",
       " 'data/processed/steinmetz_2017-12-10_Lederberg.nc',\n",
       " 'data/processed/steinmetz_2017-12-11_Lederberg.nc']"
      ]
     },
     "metadata": {},
     "output_type": "display_data"
    }
   ],
   "source": [
    "fs.ls(\"data/processed\", detail=False)"
   ]
  },
  {
   "cell_type": "markdown",
   "metadata": {},
   "source": [
    "## Remote Filesystems that Require Authentication: Basic Secret Handling\n",
    "\n",
    "Dealing with remote filesystems often involves authentication to ensure data security. This section introduces basic secret handling techniques to securely connect to protected data resources. We'll cover how to safely store and use authentication credentials, a critical skill for maintaining the integrity and confidentiality of sensitive neuroscience data"
   ]
  },
  {
   "cell_type": "code",
   "execution_count": null,
   "metadata": {},
   "outputs": [],
   "source": [
    "# %pip install python-dotenv"
   ]
  },
  {
   "cell_type": "code",
   "execution_count": null,
   "metadata": {},
   "outputs": [],
   "source": [
    "import os\n",
    "from webdav4.fsspec import WebdavFileSystem\n",
    "import fsspec  # webdav4 should be installed\n",
    "from dotenv import load_dotenv\n",
    "load_dotenv(override=True)\n",
    "env = os.environ\n"
   ]
  },
  {
   "cell_type": "markdown",
   "metadata": {},
   "source": [
    "**Exercises**\n",
    "\n",
    "Pick one person in your group to create a shared folder for the group to upload data to.  That person should: \n",
    "  - Using Sciebo in the web browser, create a new, empty folder in their Sciebo account.\n",
    "  - Create a new text file in that folder called \"README.txt\", and put a special message inside the file.\n",
    "  - **For each** team member to share the code with:\n",
    "    - Share the folder by creating a \"public link\", giving the \n",
    "        - name of the team member as the link's name, \n",
    "        - permission to download/view/upload/edit, \n",
    "        - a password, \n",
    "        - and set the link to expire in the near-ish future.\n",
    "    - Using the Zoom Chat, give each person the share link and the password.\n",
    "\n"
   ]
  },
  {
   "cell_type": "markdown",
   "metadata": {},
   "source": [
    "**Hiding the Secrets from the Source Code**\n",
    "\n",
    "It's important not to put the text of the username and password inside your code files; it makes it too easy for others to find (including robots), and makes it more difficult to share code with others.  Instead, we should put secrets it in a seperate file that we won't share with others; something that our code file can use.\n",
    "\n",
    "Here, we'll try out a standard approach that works in a wide variety of situations: make a `.env` (\"dot env\") file, which has all the environment variables we want to use.  Because it has a special extension, this file is easy to tell git to ignore, and many tools know how to work with it automatically.\n",
    "\n"
   ]
  },
  {
   "cell_type": "markdown",
   "metadata": {},
   "source": [
    "\n",
    "**Exercise** \n",
    "\n",
    "Make a file called `.env` and write the username and password into the file as variables like so:\n",
    "\n",
    "```dotenv\n",
    "URL=https://uni-bonn.sciebo.de/public.php/webdav  # or whatever the correct address is.\n",
    "USERNAME=f81JqGZmEHLxMnB                          # the last part of the share link (e.g. from https://uni-bonn.sciebo.de/s/f81JqGZmEHLxMnB)\n",
    "PASSWORD=mypassword                               # the password\n",
    "```\n",
    "\n",
    "To load the data into python, we can use the `python-dotenv` to create variables in the operating system from the file (called \"environment variables\"), and then use the `os.environ` dictionary to access those variables.  \n",
    "\n",
    "Run the code below to see if you can now access the variables:"
   ]
  },
  {
   "cell_type": "code",
   "execution_count": null,
   "metadata": {},
   "outputs": [
    {
     "data": {
      "text/plain": [
       "'https://uni-bonn.sciebo.de/public.php/webdav'"
      ]
     },
     "metadata": {},
     "output_type": "display_data"
    }
   ],
   "source": [
    "# %pip install python-dotenv\n",
    "import os\n",
    "from dotenv import load_dotenv\n",
    "load_dotenv(override=True)\n",
    "env = os.environ\n",
    "env['URL']  # env['USERNAME] and env['PASSWORD'] should also work, if those variables are found."
   ]
  },
  {
   "cell_type": "markdown",
   "metadata": {},
   "source": [
    "**Exercise**\n",
    "\n",
    "Use the `env` variables to connect to the shared remote folder, and list all the files in that folder."
   ]
  },
  {
   "cell_type": "code",
   "execution_count": null,
   "metadata": {},
   "outputs": [
    {
     "data": {
      "text/plain": [
       "['README.txt']"
      ]
     },
     "metadata": {},
     "output_type": "display_data"
    }
   ],
   "source": [
    "fs = fsspec.filesystem(\"webdav\", base_url=env['URL'], auth=(env['USERNAME'], env['PASSWORD']))\n",
    "fs.ls(\"/\", detail=False)"
   ]
  },
  {
   "cell_type": "markdown",
   "metadata": {},
   "source": [
    "Read the text in the README file.  What message is inside the file?"
   ]
  },
  {
   "cell_type": "code",
   "execution_count": null,
   "metadata": {},
   "outputs": [
    {
     "data": {
      "text/plain": [
       "'hi!\\n'"
      ]
     },
     "metadata": {},
     "output_type": "display_data"
    }
   ],
   "source": [
    "fs.read_text(\"README.txt\")"
   ]
  },
  {
   "cell_type": "markdown",
   "metadata": {},
   "source": [
    "Write text to a file named \"\\<your_name\\>.txt\" (e.g. \"emma.txt\"), and put a hello message inside that file, and check that the file was created!"
   ]
  },
  {
   "cell_type": "code",
   "execution_count": null,
   "metadata": {},
   "outputs": [
    {
     "data": {
      "text/plain": [
       "12"
      ]
     },
     "metadata": {},
     "output_type": "display_data"
    }
   ],
   "source": [
    "fs.write_text(\"nick.txt\", \"Hello, Nick.\")"
   ]
  },
  {
   "cell_type": "markdown",
   "metadata": {},
   "source": [
    "Create a folder named \"images\" and upload a picture of your favorite animal to the folder.  Check that it was uploaded properly."
   ]
  },
  {
   "cell_type": "code",
   "execution_count": null,
   "metadata": {},
   "outputs": [
    {
     "data": {
      "text/plain": [
       "80086"
      ]
     },
     "metadata": {},
     "output_type": "display_data"
    }
   ],
   "source": [
    "# %pip install requests\n",
    "import requests\n",
    "r = requests.get(\"https://media.hornbach.de/hb/packshot/as.47485436.jpg\")\n",
    "Path(\"data/giraffe.jpg\").write_bytes(r.content)"
   ]
  },
  {
   "cell_type": "code",
   "execution_count": null,
   "metadata": {},
   "outputs": [
    {
     "data": {
      "text/plain": [
       "[{'name': 'images/giraffe.jpg',\n",
       "  'href': '/public.php/webdav/images/giraffe.jpg',\n",
       "  'size': 80086,\n",
       "  'created': None,\n",
       "  'modified': datetime.datetime(2024, 2, 10, 13, 31, 2, tzinfo=datetime.timezone.utc),\n",
       "  'content_language': None,\n",
       "  'content_type': 'image/jpeg',\n",
       "  'etag': '\"42c602d0a8d12b07d4da8a1ee91d1ba0\"',\n",
       "  'type': 'file',\n",
       "  'display_name': None}]"
      ]
     },
     "metadata": {},
     "output_type": "display_data"
    }
   ],
   "source": [
    "fs.makedirs(\"images\", exist_ok=True)\n",
    "fs.upload(\"data/giraffe.jpg\", \"images/giraffe.jpg\")\n",
    "fs.ls(\"images\")"
   ]
  },
  {
   "cell_type": "markdown",
   "metadata": {},
   "source": [
    "What did the other people in your group upload?  Take a look, and download their favorite animal images!"
   ]
  },
  {
   "cell_type": "code",
   "execution_count": null,
   "metadata": {},
   "outputs": [],
   "source": []
  },
  {
   "cell_type": "markdown",
   "metadata": {},
   "source": [
    "## Mounting Remote Filesystems as a Network Drive\n",
    "\n",
    "In Windows, Mac, and Linux, you can mount a remote filesystem so you can browse it in your file explorer.  Let's try it with our shared folder!  This doesn't require any code; when mapping the drive, use the same url, username, and password as we did in the previous exercise."
   ]
  },
  {
   "cell_type": "markdown",
   "metadata": {},
   "source": [
    "**Exercise**: Mount one of the WebDAV folders we connected to as a remote drive, using the \"Map Network Drive\" option in your file explorer / finder."
   ]
  },
  {
   "cell_type": "markdown",
   "metadata": {},
   "source": [
    "## (Extra) Other Remote Filesystems\n",
    "\n",
    "The `fsspec` library supports a wide variety of filesystems, including \"SSH\" connections (like those used to access linux servers) and \"SFTP\" connections (like the one provided by the university of Bonn for extra file storage).  No matter where the data is, if you have permission to access it, you can use it!\n",
    "\n",
    "  - Uni-Bonn Data Storage Services:\n",
    "    - https://www.hrz.uni-bonn.de/de/services/datenablage-fileservices\n",
    "    - https://www.hrz.uni-bonn.de/en/all-services/data-storage-fileservices/research-data-infrastructure-fdi\n",
    "  - Uni-Köln Data Storage Services: \n",
    "    - https://fdm.uni-koeln.de/serviceangebot/servicekatalog-1"
   ]
  }
 ],
 "metadata": {
  "language_info": {
   "name": "python"
  }
 },
 "nbformat": 4,
 "nbformat_minor": 2
}
